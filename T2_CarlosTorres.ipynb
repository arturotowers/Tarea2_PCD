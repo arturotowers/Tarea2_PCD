{
 "cells": [
  {
   "cell_type": "markdown",
   "metadata": {},
   "source": [
    "# Resumen importancia MLops\n",
    "\n",
    "Me parecio muy buena la lectura del articulo, yo a principios antes de leer el articulo creia que MLops solo era un puesto de trabajo, pero ni siquiera tenia idea de a que se dedicaban.\n",
    "Ya una vez que lei el articulo me quedo claro que no es solamente un puesto de trabajo, sino que es mas bien un conjunto de procesos el cual tiene diferentes etapas que son: EDA, la preparación o procesamiento de los datos, la creacion del modelo y su tuneo de hiperparametros, revision del modelo, el deployment de los modelos, el uso del servicio de los modelos, el monitoreo de los modelos y la mejora automatica de los modelos. En verdad a mi solo me ha tocado trabajar hasta la fase de creacion del modelo y su tuneo de los parametros, tenia el conocimiento de que habia mas por hacer después de crear el modelo, pero no sabia que este conjunto de practicas era MLOps. Me parece a mi, en base a lo que lei en el articulo, muy importante MLops porque ayuda a las empresas a desarrollar los modelos de ML de manera mas rápida y eficiente. Tambien se garantiza de que los modelos sean confiables, cumplan con las regulaciones y que no falle nada en el proceso debido a los profesionitas que se involucran en cada parte y a el constante monitoreo de todas las partes involucradas en la operación."
   ]
  },
  {
   "cell_type": "markdown",
   "metadata": {},
   "source": []
  }
 ],
 "metadata": {
  "kernelspec": {
   "display_name": "Python 3",
   "language": "python",
   "name": "python3"
  },
  "language_info": {
   "name": "python",
   "version": "3.12.3"
  }
 },
 "nbformat": 4,
 "nbformat_minor": 2
}
