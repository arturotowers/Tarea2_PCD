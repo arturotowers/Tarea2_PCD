{
 "cells": [
  {
   "cell_type": "markdown",
   "metadata": {},
   "source": [
    "# Resumen importancia MLops\n",
    "## Articulo databricks\n",
    "\n",
    "Me pareció muy buena la lectura del artículo. Al principio, antes de leerlo, creía que MLOps solo era un puesto de trabajo, pero ni siquiera tenía idea de a qué se dedicaban. Una vez que leí el artículo, me quedó claro que no es solamente un puesto de trabajo, sino que es más bien un conjunto de procesos que tiene diferentes etapas, como: EDA, la preparación o procesamiento de los datos, la creación del modelo y su ajuste de hiperparámetros, la revisión del modelo, el despliegue de los modelos, el uso del servicio de los modelos, el monitoreo de los modelos y la mejora automática de los mismos. En verdad, a mí solo me ha tocado trabajar hasta la fase de creación del modelo y su ajuste de parámetros. Tenía conocimiento de que había más por hacer después de crear el modelo, pero no sabía que este conjunto de prácticas era MLOps. Me parece, en base a lo que leí en el artículo, que MLOps es muy importante porque ayuda a las empresas a desarrollar los modelos de ML de manera más rápida y eficiente. También garantiza que los modelos sean confiables, cumplan con las regulaciones y que no falle nada en el proceso, debido a los profesionales que se involucran en cada parte y al constante monitoreo de todas las partes involucradas en la operación."
   ]
  },
  {
   "cell_type": "markdown",
   "metadata": {},
   "source": []
  }
 ],
 "metadata": {
  "kernelspec": {
   "display_name": "Python 3",
   "language": "python",
   "name": "python3"
  },
  "language_info": {
   "name": "python",
   "version": "3.12.3"
  }
 },
 "nbformat": 4,
 "nbformat_minor": 2
}
